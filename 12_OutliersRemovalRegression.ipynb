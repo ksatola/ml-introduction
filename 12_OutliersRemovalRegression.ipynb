{
 "cells": [
  {
   "cell_type": "markdown",
   "metadata": {},
   "source": [
    "# Outlier Removal Example\n",
    "\n",
    "From: https://github.com/ksatola\n",
    "\n",
    "## Description\n",
    "Use a **Simple Linear Regression** to predict net worths based on age and check how outliers removal improves scoring.\n",
    "\n",
    "## Origin\n",
    "This is Python 3 version of a mini-project from [Udacity's Intro to Machine Learning](https://classroom.udacity.com/courses/ud120) free course.\n",
    "\n",
    "## Steps to Prepare\n",
    "none\n",
    "\n",
    "## Additional Information\n",
    "none"
   ]
  },
  {
   "cell_type": "code",
   "execution_count": 1,
   "metadata": {},
   "outputs": [],
   "source": [
    "import sys\n",
    "from time import time\n",
    "import random\n",
    "import numpy\n",
    "import matplotlib.pyplot as plt\n",
    "import pickle"
   ]
  },
  {
   "cell_type": "code",
   "execution_count": 2,
   "metadata": {},
   "outputs": [],
   "source": [
    "### Load up some practice data with outliers in it\n",
    "ages = pickle.load(open(\"practice_outliers_ages.pkl\", \"rb\"))\n",
    "net_worths = pickle.load(open(\"practice_outliers_net_worths.pkl\", \"rb\"))"
   ]
  },
  {
   "cell_type": "code",
   "execution_count": 3,
   "metadata": {},
   "outputs": [],
   "source": [
    "### Ages and net_worths need to be reshaped into 2D numpy arrays\n",
    "### second argument of reshape command is a tuple of integers: (n_rows, n_columns)\n",
    "### by convention, n_rows is the number of data points\n",
    "### and n_columns is the number of features\n",
    "ages       = numpy.reshape(numpy.array(ages), (len(ages), 1))\n",
    "net_worths = numpy.reshape(numpy.array(net_worths), (len(net_worths), 1))\n",
    "\n",
    "from sklearn.model_selection import train_test_split\n",
    "ages_train, ages_test, net_worths_train, net_worths_test = train_test_split(ages, net_worths, test_size=0.1, random_state=42)"
   ]
  },
  {
   "cell_type": "code",
   "execution_count": 4,
   "metadata": {},
   "outputs": [],
   "source": [
    "from sklearn.linear_model import LinearRegression"
   ]
  },
  {
   "cell_type": "code",
   "execution_count": 5,
   "metadata": {},
   "outputs": [
    {
     "name": "stdout",
     "output_type": "stream",
     "text": [
      "Coefficient: [[5.07793064]]\n",
      "Intercept: [25.21002155]\n",
      "Training time: 0.01 seconds.\n"
     ]
    }
   ],
   "source": [
    "# Measure time\n",
    "t0 = time()\n",
    "\n",
    "# Fit the model\n",
    "reg = LinearRegression()\n",
    "reg.fit(ages_train, net_worths_train) #net_worths_train is a target feature\n",
    "\n",
    "print(\"Coefficient: {}\".format(reg.coef_))\n",
    "print(\"Intercept: {}\".format(reg.intercept_))\n",
    "\n",
    "print(\"Training time: {} seconds.\".format(round(time()-t0, 3)))"
   ]
  },
  {
   "cell_type": "code",
   "execution_count": 6,
   "metadata": {},
   "outputs": [],
   "source": [
    "def outlierCleaner(predictions, ages, net_worths):\n",
    "    \"\"\"\n",
    "        Clean away the 10% of points that have the largest\n",
    "        residual errors (different between the prediction\n",
    "        and the actual net worth)\n",
    "        return a list of tuples named cleaned_data where\n",
    "        each tuple is of the form (age, net_worth, error)\n",
    "    \"\"\"\n",
    "\n",
    "    cleaned_data = []\n",
    "\n",
    "    ### your code goes here\n",
    "    error = list((net_worths - predictions)**2)\n",
    "\n",
    "    cleaned_data = zip(ages, net_worths, error)\n",
    "    cleaned_data = sorted(cleaned_data, key = lambda tup: tup[2])\n",
    "    cleaned_data = cleaned_data[:80]\n",
    "\n",
    "    \n",
    "    return cleaned_data"
   ]
  },
  {
   "cell_type": "code",
   "execution_count": 7,
   "metadata": {},
   "outputs": [
    {
     "data": {
      "image/png": "[encoded data removed]",
      "text/plain": [
       "<Figure size 432x288 with 1 Axes>"
      ]
     },
     "metadata": {},
     "output_type": "display_data"
    }
   ],
   "source": [
    "try:\n",
    "    plt.plot(ages, reg.predict(ages), color=\"blue\")\n",
    "except NameError:\n",
    "    pass\n",
    "plt.scatter(ages, net_worths)\n",
    "plt.savefig('12_OutliersRemovalRegression1.png')\n",
    "plt.show()\n",
    "\n",
    "\n",
    "### identify and remove the most outlier-y points\n",
    "cleaned_data = []\n",
    "try:\n",
    "    predictions = reg.predict(ages_train)\n",
    "    cleaned_data = outlierCleaner(predictions, ages_train, net_worths_train)\n",
    "except NameError:\n",
    "    print(\"Your regression object doesn't exist, or isn't name reg.\")\n",
    "    print(\"Can't make predictions to use in identifying outliers.\")"
   ]
  },
  {
   "cell_type": "code",
   "execution_count": 8,
   "metadata": {},
   "outputs": [
    {
     "name": "stdout",
     "output_type": "stream",
     "text": [
      "R Squared for test: 0.8782624703664671\n",
      "R Squared for train: 0.4898725961751499\n"
     ]
    }
   ],
   "source": [
    "# Calculate regression performance metrics\n",
    "# r-squared score - the closer to 1 the better\n",
    "r2_test = reg.score(ages_test, net_worths_test) # low if overfitted\n",
    "r2_train = reg.score(ages_train, net_worths_train) # this is just to compare, as we should trust the score on the test data\n",
    "\n",
    "print(\"R Squared for test: {}\".format(r2_test))\n",
    "print(\"R Squared for train: {}\".format(r2_train))"
   ]
  },
  {
   "cell_type": "code",
   "execution_count": 9,
   "metadata": {},
   "outputs": [
    {
     "name": "stdout",
     "output_type": "stream",
     "text": [
      "Coefficient: [[5.07793064]]\n",
      "Intercept: [25.21002155]\n"
     ]
    }
   ],
   "source": [
    "print(\"Coefficient: {}\".format(reg.coef_))\n",
    "print(\"Intercept: {}\".format(reg.intercept_))"
   ]
  },
  {
   "cell_type": "code",
   "execution_count": 10,
   "metadata": {},
   "outputs": [
    {
     "data": {
      "image/png": "[encoded data removed]",
      "text/plain": [
       "<Figure size 432x288 with 1 Axes>"
      ]
     },
     "metadata": {},
     "output_type": "display_data"
    }
   ],
   "source": [
    "### Only run this code if cleaned_data is returning data\n",
    "if len(cleaned_data) > 0:\n",
    "    ages, net_worths, errors = zip(*cleaned_data)\n",
    "    ages       = numpy.reshape( numpy.array(ages), (len(ages), 1))\n",
    "    net_worths = numpy.reshape( numpy.array(net_worths), (len(net_worths), 1))\n",
    "\n",
    "    ### Refit your cleaned data!\n",
    "    try:\n",
    "        reg.fit(ages, net_worths)\n",
    "        plt.plot(ages, reg.predict(ages), color=\"blue\")\n",
    "    except NameError:\n",
    "        print(\"You don't seem to have regression imported/created,\")\n",
    "        print(\"   or else your regression object isn't named reg\")\n",
    "        print(\"   either way, only draw the scatter plot of the cleaned data\")\n",
    "    plt.scatter(ages, net_worths)\n",
    "    plt.xlabel(\"ages\")\n",
    "    plt.ylabel(\"net worths\")\n",
    "    plt.savefig('12_OutliersRemovalRegression2.png')\n",
    "    plt.show()\n",
    "else:\n",
    "    print(\"outlierCleaner() is returning an empty list, no refitting to be done.\")"
   ]
  },
  {
   "cell_type": "code",
   "execution_count": 11,
   "metadata": {},
   "outputs": [
    {
     "name": "stdout",
     "output_type": "stream",
     "text": [
      "R Squared for test: 0.9824700510044744\n",
      "R Squared for train: 0.41356442151468853\n"
     ]
    }
   ],
   "source": [
    "# Calculate regression performance metrics\n",
    "# r-squared score - the closer to 1 the better\n",
    "r2_test = reg.score(ages_test, net_worths_test) # low if overfitted\n",
    "r2_train = reg.score(ages_train, net_worths_train) # this is just to compare, as we should trust the score on the test data\n",
    "\n",
    "print(\"R Squared for test: {}\".format(r2_test))\n",
    "print(\"R Squared for train: {}\".format(r2_train))"
   ]
  },
  {
   "cell_type": "code",
   "execution_count": 12,
   "metadata": {},
   "outputs": [
    {
     "name": "stdout",
     "output_type": "stream",
     "text": [
      "Coefficient: [[6.32006691]]\n",
      "Intercept: [-5.32173018]\n"
     ]
    }
   ],
   "source": [
    "print(\"Coefficient: {}\".format(reg.coef_))\n",
    "print(\"Intercept: {}\".format(reg.intercept_))"
   ]
  },
  {
   "cell_type": "code",
   "execution_count": null,
   "metadata": {},
   "outputs": [],
   "source": []
  }
 ],
 "metadata": {
  "kernelspec": {
   "display_name": "Python [default]",
   "language": "python",
   "name": "python3"
  },
  "language_info": {
   "codemirror_mode": {
    "name": "ipython",
    "version": 3
   },
   "file_extension": ".py",
   "mimetype": "text/x-python",
   "name": "python",
   "nbconvert_exporter": "python",
   "pygments_lexer": "ipython3",
   "version": "3.6.6"
  }
 },
 "nbformat": 4,
 "nbformat_minor": 2
}
