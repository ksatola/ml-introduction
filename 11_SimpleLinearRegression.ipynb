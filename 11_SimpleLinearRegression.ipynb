{
 "cells": [
  {
   "cell_type": "markdown",
   "metadata": {},
   "source": [
    "# Enron Bonuses Prediction\n",
    "\n",
    "From: https://github.com/ksatola\n",
    "\n",
    "## Description\n",
    "Use a **Simple Linear Regression** to predict the bonuses for Enron employees.\n",
    "\n",
    "## Origin\n",
    "This is Python 3 version of a mini-project from [Udacity's Intro to Machine Learning](https://classroom.udacity.com/courses/ud120) free course.\n",
    "\n",
    "## Steps to Prepare\n",
    "none\n",
    "\n",
    "## Additional Information\n",
    "none"
   ]
  },
  {
   "cell_type": "code",
   "execution_count": 1,
   "metadata": {},
   "outputs": [],
   "source": [
    "import sys\n",
    "from time import time\n",
    "import pickle\n",
    "import matplotlib\n",
    "\n",
    "%matplotlib inline"
   ]
  },
  {
   "cell_type": "code",
   "execution_count": 2,
   "metadata": {},
   "outputs": [],
   "source": [
    "\"\"\"\n",
    "    Starter code for the regression mini-project.\n",
    "    \n",
    "    Loads up/formats a modified version of the dataset\n",
    "    (why modified?  we've removed some trouble points\n",
    "    that you'll find yourself in the outliers mini-project).\n",
    "\n",
    "    Draws a little scatterplot of the training/testing data\n",
    "\n",
    "    You fill in the regression code where indicated:\n",
    "\"\"\"    \n",
    "\n",
    "dictionary = pickle.load(open(\"final_project_dataset_modified.pkl\", \"rb\"))\n",
    "\n",
    "# list the features you want to look at \n",
    "# first item in the list will be the \"target\" feature\n",
    "features_list = [\"bonus\", \"salary\"]\n",
    "#features_list = [\"bonus\", \"long_term_incentive\"]\n",
    "\n",
    "from feature_format import featureFormat, targetFeatureSplit\n",
    "data = featureFormat(dictionary, features_list, remove_any_zeroes=True)\n",
    "target, features = targetFeatureSplit(data)\n",
    "\n",
    "### training-testing split needed in regression, just like classification\n",
    "from sklearn.model_selection import train_test_split\n",
    "feature_train, feature_test, target_train, target_test = train_test_split(features, target, test_size=0.5, random_state=42)\n",
    "train_color = \"b\"\n",
    "test_color = \"r\""
   ]
  },
  {
   "cell_type": "code",
   "execution_count": 3,
   "metadata": {},
   "outputs": [],
   "source": [
    "from sklearn.linear_model import LinearRegression"
   ]
  },
  {
   "cell_type": "code",
   "execution_count": 4,
   "metadata": {},
   "outputs": [
    {
     "name": "stdout",
     "output_type": "stream",
     "text": [
      "Coefficient: [1.97017287]\n",
      "Intercept: 662220.4176015807\n",
      "Training time: 0.007 seconds.\n"
     ]
    }
   ],
   "source": [
    "# Measure time\n",
    "t0 = time()\n",
    "\n",
    "# Fit the model\n",
    "reg = LinearRegression()\n",
    "reg.fit(feature_train, target_train)\n",
    "\n",
    "print(\"Coefficient: {}\".format(reg.coef_))\n",
    "print(\"Intercept: {}\".format(reg.intercept_))\n",
    "\n",
    "print(\"Training time: {} seconds.\".format(round(time()-t0, 3)))"
   ]
  },
  {
   "cell_type": "code",
   "execution_count": 5,
   "metadata": {},
   "outputs": [
    {
     "data": {
      "text/plain": [
       "40"
      ]
     },
     "execution_count": 5,
     "metadata": {},
     "output_type": "execute_result"
    }
   ],
   "source": [
    "len(feature_test)"
   ]
  },
  {
   "cell_type": "code",
   "execution_count": 6,
   "metadata": {},
   "outputs": [
    {
     "name": "stdout",
     "output_type": "stream",
     "text": [
      "Coefficient: [2.36761212]\n",
      "Intercept: 229541.90407383675\n"
     ]
    },
    {
     "data": {
      "image/png": "[encoded data removed]",
      "text/plain": [
       "<Figure size 432x288 with 1 Axes>"
      ]
     },
     "metadata": {},
     "output_type": "display_data"
    }
   ],
   "source": [
    "### draw the scatterplot, with color-coded training and testing points\n",
    "import matplotlib.pyplot as plt\n",
    "for feature, target in zip(feature_test, target_test):\n",
    "    plt.scatter(feature, target, color=test_color) \n",
    "for feature, target in zip(feature_train, target_train):\n",
    "    plt.scatter(feature, target, color=train_color) \n",
    "\n",
    "### labels for the legend\n",
    "plt.scatter(feature_test[0], target_test[0], color=test_color, label=\"test\")\n",
    "plt.scatter(feature_test[0], target_test[0], color=train_color, label=\"train\")\n",
    "\n",
    "### draw the regression line, once it's coded\n",
    "try:\n",
    "    plt.plot(feature_test, reg.predict(feature_test), color=\"r\")\n",
    "    \n",
    "except NameError:\n",
    "    pass\n",
    "\n",
    "# See how the regression line based on test data compares to another based on train data\n",
    "reg2 = LinearRegression()\n",
    "reg2.fit(feature_test, target_test)\n",
    "print(\"Coefficient: {}\".format(reg2.coef_))\n",
    "print(\"Intercept: {}\".format(reg2.intercept_))\n",
    "plt.plot(feature_train, reg2.predict(feature_train), color=\"b\")\n",
    "    \n",
    "plt.xlabel(features_list[1])\n",
    "plt.ylabel(features_list[0])\n",
    "plt.legend()\n",
    "plt.show()\n",
    " "
   ]
  },
  {
   "cell_type": "code",
   "execution_count": 7,
   "metadata": {},
   "outputs": [
    {
     "name": "stdout",
     "output_type": "stream",
     "text": [
      "R Squared for test: -0.04471207836147806\n",
      "R Squared for train: 0.04164573226747781\n"
     ]
    }
   ],
   "source": [
    "# Calculate regression performance metrics\n",
    "# r-squared score - the closer to 1 the better\n",
    "r2_test = reg.score(feature_test, target_test) # low if overfitted\n",
    "r2_train = reg.score(feature_train, target_train) # this is just to compare, as we should trust the score on the test data\n",
    "\n",
    "print(\"R Squared for test: {}\".format(r2_test))\n",
    "print(\"R Squared for train: {}\".format(r2_train))"
   ]
  },
  {
   "cell_type": "code",
   "execution_count": 8,
   "metadata": {},
   "outputs": [],
   "source": [
    "# Save the Model for later use\n",
    "\n",
    "model_filename = '11_SimpleLinearRegression.model'\n",
    "\n",
    "# Save the model to disk (serialize model on disk)\n",
    "import pickle\n",
    "pickle.dump(reg, open(model_filename, 'wb'))"
   ]
  },
  {
   "cell_type": "code",
   "execution_count": 9,
   "metadata": {},
   "outputs": [
    {
     "data": {
      "text/plain": [
       "-0.04471207836147806"
      ]
     },
     "execution_count": 9,
     "metadata": {},
     "output_type": "execute_result"
    }
   ],
   "source": [
    "# Load the model from disk (and perform predictions on a model without train data)\n",
    "model = pickle.load(open(model_filename, 'rb'))\n",
    "#r2_test = reg.score(feature_test, target_test) # low if overfitted\n",
    "#print(\"R Squared for test: {}\".format(r2_test))\n",
    "result = model.score(feature_test, target_test)\n",
    "result"
   ]
  },
  {
   "cell_type": "code",
   "execution_count": 10,
   "metadata": {},
   "outputs": [],
   "source": [
    "### Read in data dictionary, convert to numpy array\n",
    "data_dict = pickle.load(open(\"final_project_dataset.pkl\", \"rb\"))\n",
    "features = [\"salary\", \"bonus\"]\n",
    "data = featureFormat(data_dict, features)"
   ]
  },
  {
   "cell_type": "code",
   "execution_count": 11,
   "metadata": {},
   "outputs": [
    {
     "data": {
      "image/png": "[encoded data removed]",
      "text/plain": [
       "<Figure size 432x288 with 1 Axes>"
      ]
     },
     "metadata": {},
     "output_type": "display_data"
    }
   ],
   "source": [
    "for point in data:\n",
    "    salary = point[0]\n",
    "    bonus = point[1]\n",
    "    matplotlib.pyplot.scatter(salary, bonus)\n",
    "\n",
    "matplotlib.pyplot.xlabel(\"salary\")\n",
    "matplotlib.pyplot.ylabel(\"bonus\")\n",
    "matplotlib.pyplot.show()"
   ]
  },
  {
   "cell_type": "code",
   "execution_count": 12,
   "metadata": {},
   "outputs": [],
   "source": [
    "### Read in data dictionary, convert to numpy array\n",
    "data_dict = pickle.load(open(\"final_project_dataset.pkl\", \"rb\"))\n",
    "\n",
    "# Remove the outlier (it is a total from the spreadsheet)\n",
    "# See 10_EnronDataset for how the \"TOTAL\" key was found\n",
    "data_dict.pop('TOTAL', 0)\n",
    "\n",
    "features = [\"salary\", \"bonus\"]\n",
    "data = featureFormat(data_dict, features)"
   ]
  },
  {
   "cell_type": "code",
   "execution_count": 13,
   "metadata": {},
   "outputs": [
    {
     "data": {
      "image/png": "[encoded data removed]",
      "text/plain": [
       "<Figure size 432x288 with 1 Axes>"
      ]
     },
     "metadata": {},
     "output_type": "display_data"
    }
   ],
   "source": [
    "# Check if the outlier is removed\n",
    "for point in data:\n",
    "    salary = point[0]\n",
    "    bonus = point[1]\n",
    "    matplotlib.pyplot.scatter(salary, bonus)\n",
    "\n",
    "matplotlib.pyplot.xlabel(\"salary\")\n",
    "matplotlib.pyplot.ylabel(\"bonus\")\n",
    "matplotlib.pyplot.show()"
   ]
  },
  {
   "cell_type": "code",
   "execution_count": null,
   "metadata": {},
   "outputs": [],
   "source": []
  }
 ],
 "metadata": {
  "kernelspec": {
   "display_name": "Python [default]",
   "language": "python",
   "name": "python3"
  },
  "language_info": {
   "codemirror_mode": {
    "name": "ipython",
    "version": 3
   },
   "file_extension": ".py",
   "mimetype": "text/x-python",
   "name": "python",
   "nbconvert_exporter": "python",
   "pygments_lexer": "ipython3",
   "version": "3.6.6"
  }
 },
 "nbformat": 4,
 "nbformat_minor": 2
}
