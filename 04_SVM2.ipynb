{
 "cells": [
  {
   "cell_type": "markdown",
   "metadata": {},
   "source": [
    "# Machine Learning for Author ID\n",
    "\n",
    "From: https://github.com/ksatola\n",
    "\n",
    "## Description\n",
    "Use a Support Vector Machines (SVM) classifier to classify (create decision boundary) between points representing car sensors readings about the road condisions (features: grade, bumpiness) to decide if the should slow down or acelerate.\n",
    "\n",
    "## Origin\n",
    "This is Python 3 version of a mini-project from [Udacity's Intro to Machine Learning](https://classroom.udacity.com/courses/ud120) free course.\n",
    "\n",
    "## Steps to prepare\n",
    "none\n",
    "\n",
    "## Additional Information\n",
    "none"
   ]
  },
  {
   "cell_type": "code",
   "execution_count": 1,
   "metadata": {},
   "outputs": [],
   "source": [
    "import sys\n",
    "from time import time\n",
    "from prep_terrain_data import makeTerrainData\n",
    "import numpy as np\n",
    "import pylab as pl"
   ]
  },
  {
   "cell_type": "code",
   "execution_count": 2,
   "metadata": {},
   "outputs": [],
   "source": [
    "### features_train and features_test are the features for the training\n",
    "### and testing datasets, respectively\n",
    "### labels_train and labels_test are the corresponding item labels\n",
    "features_train, labels_train, features_test, labels_test = makeTerrainData()"
   ]
  },
  {
   "cell_type": "code",
   "execution_count": 3,
   "metadata": {},
   "outputs": [],
   "source": [
    "### the training data (features_train, labels_train) have both \"fast\" and \"slow\" points mixed\n",
    "### in together--separate them so we can give them different colors in the scatterplot,\n",
    "### and visually identify them\n",
    "grade_fast = [features_train[ii][0] for ii in range(0, len(features_train)) if labels_train[ii]==0]\n",
    "bumpy_fast = [features_train[ii][1] for ii in range(0, len(features_train)) if labels_train[ii]==0]\n",
    "grade_slow = [features_train[ii][0] for ii in range(0, len(features_train)) if labels_train[ii]==1]\n",
    "bumpy_slow = [features_train[ii][1] for ii in range(0, len(features_train)) if labels_train[ii]==1]"
   ]
  },
  {
   "cell_type": "code",
   "execution_count": 4,
   "metadata": {},
   "outputs": [],
   "source": [
    "from sklearn import svm"
   ]
  },
  {
   "cell_type": "code",
   "execution_count": 5,
   "metadata": {},
   "outputs": [
    {
     "name": "stdout",
     "output_type": "stream",
     "text": [
      "Training time: 0.03 seconds.\n"
     ]
    }
   ],
   "source": [
    "# Measure time\n",
    "t0 = time()\n",
    "\n",
    "# Fit the model\n",
    "clf = svm.SVC(kernel='rbf', gamma='scale', C=10000)#(kernel='linear')\n",
    "clf.fit(features_train, labels_train)\n",
    "\n",
    "print(\"Training time: {} seconds.\".format(round(time()-t0, 3)))"
   ]
  },
  {
   "cell_type": "code",
   "execution_count": 6,
   "metadata": {},
   "outputs": [
    {
     "data": {
      "image/png": "[encoded data removed]",
      "text/plain": [
       "<Figure size 432x288 with 1 Axes>"
      ]
     },
     "metadata": {},
     "output_type": "display_data"
    }
   ],
   "source": [
    "### draw the decision boundary with the text points overlaid\n",
    "from class_vis import prettyPicture\n",
    "prettyPicture(clf, features_test, labels_test, '04_SVM2.png')"
   ]
  },
  {
   "cell_type": "code",
   "execution_count": 7,
   "metadata": {},
   "outputs": [
    {
     "name": "stdout",
     "output_type": "stream",
     "text": [
      "Training time: 0.001 seconds.\n"
     ]
    }
   ],
   "source": [
    "# Measure time\n",
    "t0 = time()\n",
    "\n",
    "# Predict\n",
    "pred = clf.predict(features_test)\n",
    "\n",
    "print(\"Training time: {} seconds.\".format(round(time()-t0, 3)))"
   ]
  },
  {
   "cell_type": "code",
   "execution_count": 8,
   "metadata": {},
   "outputs": [
    {
     "name": "stdout",
     "output_type": "stream",
     "text": [
      "Predicted outcome for 50 is 1.0.\n"
     ]
    }
   ],
   "source": [
    "# What is a predicted value for a specific observation in the features_test\n",
    "obs = 50\n",
    "answer = pred[obs] # zero-based index\n",
    "print(\"Predicted outcome for {} is {}.\".format(obs, answer))"
   ]
  },
  {
   "cell_type": "code",
   "execution_count": 9,
   "metadata": {},
   "outputs": [
    {
     "name": "stdout",
     "output_type": "stream",
     "text": [
      "Unique value: 0 occurs 87 time(s).\n",
      "Unique value: 1 occurs 163 time(s).\n"
     ]
    }
   ],
   "source": [
    "# How many for Sara and Chris?\n",
    "import numpy as np\n",
    "unique, counts = np.unique(pred, return_counts=True)\n",
    "for x in range(len(unique)):\n",
    "    print(\"Unique value: {} occurs {} time(s).\".format(x, counts[x]))"
   ]
  },
  {
   "cell_type": "code",
   "execution_count": 10,
   "metadata": {},
   "outputs": [
    {
     "data": {
      "text/plain": [
       "0.948"
      ]
     },
     "execution_count": 10,
     "metadata": {},
     "output_type": "execute_result"
    }
   ],
   "source": [
    "# Calculate accuracy\n",
    "from sklearn.metrics import accuracy_score\n",
    "accuracy = accuracy_score(pred, labels_test)\n",
    "accuracy"
   ]
  },
  {
   "cell_type": "code",
   "execution_count": 11,
   "metadata": {},
   "outputs": [],
   "source": [
    "# Save the Model for later use\n",
    "\n",
    "model_filename = '04_SVM2.model'\n",
    "\n",
    "# Save the model to disk (serialize model on disk)\n",
    "import pickle\n",
    "pickle.dump(clf, open(model_filename, 'wb'))"
   ]
  },
  {
   "cell_type": "code",
   "execution_count": 12,
   "metadata": {},
   "outputs": [
    {
     "data": {
      "text/plain": [
       "0.948"
      ]
     },
     "execution_count": 12,
     "metadata": {},
     "output_type": "execute_result"
    }
   ],
   "source": [
    "# Load the model from disk (and perform predictions on a model without train data)\n",
    "model = pickle.load(open(model_filename, 'rb'))\n",
    "result = model.score(features_test, labels_test)\n",
    "result"
   ]
  }
 ],
 "metadata": {
  "kernelspec": {
   "display_name": "Python [default]",
   "language": "python",
   "name": "python3"
  },
  "language_info": {
   "codemirror_mode": {
    "name": "ipython",
    "version": 3
   },
   "file_extension": ".py",
   "mimetype": "text/x-python",
   "name": "python",
   "nbconvert_exporter": "python",
   "pygments_lexer": "ipython3",
   "version": "3.6.6"
  }
 },
 "nbformat": 4,
 "nbformat_minor": 2
}
